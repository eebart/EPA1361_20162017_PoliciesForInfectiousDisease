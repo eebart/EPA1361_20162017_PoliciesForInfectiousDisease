{
 "cells": [
  {
   "cell_type": "code",
   "execution_count": null,
   "metadata": {
    "collapsed": false
   },
   "outputs": [],
   "source": [
    "#import ALL THE THINGS\n",
    "from ema_workbench import (Model, \n",
    "                           RealParameter, CategoricalParameter, IntegerParameter, Constant, \n",
    "                           ScalarOutcome, \n",
    "                           perform_experiments, MultiprocessingEvaluator, \n",
    "                           ema_logging, save_results)\n",
    "\n",
    "from ema_workbench.connectors.pysd_connector import PysdModel\n",
    "\n",
    "from ema_workbench.em_framework.evaluators import LHS, MC, FF, PFF, MORRIS, SOBOL, FAST\n",
    "\n",
    "ema_logging.log_to_stderr(ema_logging.INFO)"
   ]
  },
  {
   "cell_type": "markdown",
   "metadata": {},
   "source": [
    "# Configuring the Model\n",
    "Below are the recommended uncertanties and constants to run the basic model for initial data collection purposes. \n",
    "\n",
    "|Uncertainties|Constants|\n",
    "|--|--|\n",
    "|<table> <tr><th>Uncertainty</th><th>Range</th><th>Default value</th></tr><tr><td>Average incubation time</td><td>0.5 – 14</td><td>2</td></tr><tr><td>Average infectious period</td><td>7 – 21</td><td>14</td></tr><tr><td>Basic reproduction number</td><td>0.5 – 5</td><td>2</td></tr><tr><td>Case fatality rate\t</td><td>0.01 – 0.5</td><td>0.01</td></tr><tr><td>Switch SEIR or SIR</td><td>{1, 0}</td><td>0</td></tr> </table>| <table> <tr><th>Constant</th><th>Value</th></tr><tr><td>Initial deceased population</td><td>0</td></tr><tr><td>Initial exposed population</td><td>0</td></tr><tr><td>Initial infectious population</td><td>1</td></tr><tr><td>Initial recovered population</td><td>0</td></tr><tr><td>Initial susceptible population</td><td>100000</td></tr> </table>|"
   ]
  },
  {
   "cell_type": "code",
   "execution_count": null,
   "metadata": {
    "collapsed": false
   },
   "outputs": [],
   "source": [
    "#We can define common uncertainties and outcomes for each model:\n",
    "uncertainties = [RealParameter('Average incubation time', 0.5, 14),\n",
    "                 RealParameter('Average infectious period', 7, 21),\n",
    "                 RealParameter('Basic reproduction number', 0.5, 5),\n",
    "                 RealParameter('Case fatality rate', 0.01, 0.5)] \n",
    "\n",
    "outcomes = [ScalarOutcome('TIME'),\n",
    "            ScalarOutcome('Deceased population'),\n",
    "            ScalarOutcome('Infectious population'),\n",
    "            ScalarOutcome('Recovered population'),\n",
    "            ScalarOutcome('Susceptible population'),\n",
    "            ScalarOutcome('Exposed population'),\n",
    "            ScalarOutcome('Switch SEIR or SIR')]\n",
    "\n",
    "# Ensure the proper constant values based on information above\n",
    "constants = [Constant('Initial deceased population', 0),\n",
    "             Constant('Initial exposed population', 0),\n",
    "             Constant('Initial infectious population', 1),\n",
    "             Constant('Initial recovered population', 0),\n",
    "             Constant('Initial susceptible population', 100000)]"
   ]
  },
  {
   "cell_type": "code",
   "execution_count": null,
   "metadata": {
    "collapsed": true
   },
   "outputs": [],
   "source": [
    "models = [{\n",
    "            'file':'models/01_SEIR_SIR_Original_RealSwitch.mdl',\n",
    "            'name':'real', \n",
    "            'uncertainties': uncertainties,\n",
    "            'outcomes': outcomes, \n",
    "            'constants': constants\n",
    "         }, {\n",
    "            'file':'models/01_SEIR_SIR_Original.mdl',\n",
    "            'name':'category', \n",
    "            'uncertainties': uncertainties,\n",
    "            'outcomes': outcomes, \n",
    "            'constants': constants\n",
    "         }]\n",
    "\n",
    "models[0]['uncertainties'] = models[0]['uncertainties'] + [RealParameter('SwitchInput', 0.0001, 1)] #avoid 0 in range\n",
    "models[1]['uncertainties'] = models[1]['uncertainties'] + [CategoricalParameter('Switch SEIR or SIR', [1,0])]"
   ]
  },
  {
   "cell_type": "code",
   "execution_count": null,
   "metadata": {
    "collapsed": false
   },
   "outputs": [],
   "source": [
    "#requirement for sobol to run properly\n",
    "sobol_mult = (2*len(models[0]['uncertainties'])+2) # 5 = number of uncertainties\n",
    "\n",
    "samplings = [{'method':LHS,'name':'LHS'},{'method':MC,'name':'MC'}, \n",
    "             {'method':PFF,'name':'PFF'}]\n",
    "\n",
    "num_experiments = [100*sobol_mult,1000*sobol_mult]"
   ]
  },
  {
   "cell_type": "code",
   "execution_count": null,
   "metadata": {
    "collapsed": false,
    "scrolled": false
   },
   "outputs": [],
   "source": [
    "for model in models: \n",
    "    for sampling in samplings: \n",
    "        for num_exp in num_experiments: \n",
    "\n",
    "            mdl = PysdModel(model['name'], mdl_file=model['file'])\n",
    "\n",
    "            mdl.uncertainties = model['uncertainties']\n",
    "            mdl.outcomes = model['outcomes']\n",
    "            mdl.constants = model['constants']\n",
    "            mdl.time_horizon = 360\n",
    "\n",
    "            # Single processing execution for PCs\n",
    "            # results = perform_experiments(mdl, num_exp, uncertainty_sampling=sampling['method'])\n",
    "\n",
    "            # Multiprocessing evaluator for Macs\n",
    "            with MultiprocessingEvaluator(mdl) as evaluator:\n",
    "                results = evaluator.perform_experiments(num_exp, uncertainty_sampling=sampling['method'])\n",
    "\n",
    "            results_name = './data/' + model['name']+'_'+sampling['name']+'_'+str(num_exp)+'.tar.gz'\n",
    "            save_results(results, results_name)"
   ]
  },
  {
   "cell_type": "markdown",
   "metadata": {
    "collapsed": true
   },
   "source": [
    "# Vensim Generator"
   ]
  },
  {
   "cell_type": "code",
   "execution_count": null,
   "metadata": {
    "collapsed": false
   },
   "outputs": [],
   "source": [
    "from ema_workbench.connectors.vensim import VensimModel\n",
    "\n",
    "uncertainties = [RealParameter('Average incubation time', 0.5, 14),\n",
    "                 RealParameter('Average infectious period', 7, 21),\n",
    "                 RealParameter('Basic reproduction number', 0.5, 5),\n",
    "                 RealParameter('Case fatality rate', 0.01, 0.5),\n",
    "                 IntegerParameter('Switch SEIR or SIR', 0,1), \n",
    "                 \n",
    "                 RealParameter('Base Transmission Coefficient Social Distance III', 0.7, 0.8),\n",
    "                 RealParameter('Base Societal Stress Coefficient Social Distance III', 0.5, 0.9),\n",
    "                 RealParameter('Base Effort Coefficient Social Distance III', 4, 8),\n",
    "                 RealParameter('Implementation Time Social Distance III', 2, 4),\n",
    "\n",
    "                 RealParameter('Base Transmission Coefficient Social Distance II', 0.89, 0.96),\n",
    "                 RealParameter('Base Societal Stress Coefficient Social Distance II', 0.3, 0.8),\n",
    "                 RealParameter('Base Effort Coefficient Social Distance II', 3, 6),\n",
    "                 RealParameter('Implementation Time Social Distance II', 1, 3),\n",
    "\n",
    "                 RealParameter('Base Transmission Coefficient Social Distance I', 0.92, 0.97),\n",
    "                 RealParameter('Base Societal Stress Coefficient Social Distance I', 0.2, 0.3),\n",
    "                 RealParameter('Base Effort Coefficient Social Distance I', 2, 3),\n",
    "                 RealParameter('Implementation Time Social Distance I', 1, 3),\n",
    "\n",
    "                 RealParameter('Base Transmission Coefficient Public Info', 0.97, 0.99),\n",
    "                 RealParameter('Base Societal Stress Coefficient Public Info', 0.01, 0.1),\n",
    "                 RealParameter('Base Effort Coefficient Public Info', 1, 2),\n",
    "                 RealParameter('Implementation Time Public Info', 2, 5),\n",
    "\n",
    "                 RealParameter('Base Transmission Coefficient Public Edu', 0.97, 0.99),\n",
    "                 RealParameter('Base Societal Stress Coefficient Public Edu', 0.01, 0.1),\n",
    "                 RealParameter('Base Effort Coefficient Public Edu', 1, 2),\n",
    "                 RealParameter('Implementation Time Public Edu', 2, 5),\n",
    "\n",
    "                 RealParameter('Base Transmission Coefficient Facemasks', 0.93, 0.97),\n",
    "                 RealParameter('Base Societal Stress Coefficient Facemasks', 0.1, 0.15),\n",
    "                 RealParameter('Base Effort Coefficient Facemasks', 2, 3),\n",
    "                 RealParameter('Implementation Time Facemasks', 5, 10),\n",
    "\n",
    "                 RealParameter('Base Transmission Coefficient Tracing', 0.87, 0.93),\n",
    "                 RealParameter('Base Societal Stress Coefficient Tracing', 0.1, 0.3),\n",
    "                 RealParameter('Base Effort Coefficient Tracing', 3, 7),\n",
    "                 RealParameter('Implementation Time Tracing', 2, 10),\n",
    "\n",
    "                 RealParameter('Base Transmission Coefficient Case Isolation', 0.73, 0.87),\n",
    "                 RealParameter('Base Recovery Coefficient Case Isolation', 0.92, 0.97),\n",
    "                 RealParameter('Base Societal Stress Coefficient Case Isolation', 0.3, 0.6),\n",
    "                 RealParameter('Base Effort Coefficient Case Isolation', 5, 9),\n",
    "                 RealParameter('Implementation Time Case Isolation', 14, 28),\n",
    "\n",
    "                 RealParameter('Base Societal Stress Coefficient Involuntary Immunization', 0.5, 0.8),\n",
    "                 RealParameter('Base Effort Coefficient Involuntary Immunization', 5, 10),\n",
    "                 RealParameter('Implementation Time Involuntary Immunization', 30, 180),\n",
    "\n",
    "                 RealParameter('Base Societal Stress Coefficient Voluntary Immunization', 0.1, 0.3),\n",
    "                 RealParameter('Base Effort Coefficient Voluntary Immunization', 2, 6),\n",
    "                 RealParameter('Implementation Time Voluntary Immunization', 30, 180),\n",
    "\n",
    "                 RealParameter('Base Transmission Coefficient Medical Care I', 0.9, 0.97),\n",
    "                 RealParameter('Base Recovery Coefficient Medical Care I', 0.97, 1),\n",
    "                 RealParameter('Base Societal Stress Coefficient Medical Care I', 0.05, 0.1),\n",
    "                 RealParameter('Base Effort Coefficient Medical Care I', 1, 4),\n",
    "                 RealParameter('Implementation Time Medical Care I', 5, 20),\n",
    "\n",
    "                 RealParameter('Base Transmission Coefficient Medical Care II', 0.83, 0.9),\n",
    "                 RealParameter('Base Recovery Coefficient Medical Care II', 0.7, 0.98),\n",
    "                 RealParameter('Base Societal Stress Coefficient Medical Care II', 0.05, 0.1),\n",
    "                 RealParameter('Base Effort Coefficient Medical Care II', 4, 8),\n",
    "                 RealParameter('Implementation Time Medical Care II', 20, 40),\n",
    "                ]\n",
    "\n",
    "outcomes = [ScalarOutcome('Deceased population'),\n",
    "            ScalarOutcome('Infectious population'),\n",
    "            ScalarOutcome('Recovered population'),\n",
    "            ScalarOutcome('Susceptible population'),\n",
    "            ScalarOutcome('Exposed population'),\n",
    "            ScalarOutcome('Stock Total Effort'),\n",
    "            ScalarOutcome('Stock Societal Stress')]\n",
    "\n",
    "# Ensure the proper constant values based on information above\n",
    "constants = [Constant('Initial deceased population', 0),\n",
    "             Constant('Initial exposed population', 0),\n",
    "             Constant('Initial infectious population', 1),\n",
    "             Constant('Initial recovered population', 0),\n",
    "             Constant('Initial susceptible population', 100000), \n",
    "            \n",
    "             Constant('Duration Social Distance III', 360),\n",
    "             Constant('Duration Social Distance II', 360),\n",
    "             Constant('Duration Social Distance I', 360),\n",
    "             Constant('Duration Public Info', 360),\n",
    "             Constant('Duration Public Edu', 360),\n",
    "             Constant('Duration Facemasks', 360),\n",
    "             Constant('Duration Tracing', 360),\n",
    "             Constant('Duration Case Isolation', 360),\n",
    "             Constant('Duration Involuntary Immunization', 360),\n",
    "             Constant('Duration Voluntary Immunization', 360),\n",
    "             Constant('Duration Medical Care I', 360),\n",
    "             Constant('Duration Medical Care II', 360),\n",
    "            ]\n",
    "\n",
    "mdl = VensimModel('Model', wd=r'./models', model_file=r'04_SEIR_SIR_FullPolicy.vpm')\n",
    "mdl.uncertainties = uncertainties\n",
    "mdl.outcomes = outcomes\n",
    "mdl.constants = constants\n",
    "mdl.time_horizon = 360\n",
    "\n",
    "results = perform_experiments(mdl, 3000, uncertainty_sampling=LHS)\n",
    "\n",
    "results_name = './data/FullModel_LHS_3000.tar.gz'\n",
    "save_results(results, results_name)"
   ]
  },
  {
   "cell_type": "code",
   "execution_count": null,
   "metadata": {
    "collapsed": true
   },
   "outputs": [],
   "source": []
  }
 ],
 "metadata": {
  "kernelspec": {
   "display_name": "Python 3",
   "language": "python",
   "name": "python3"
  },
  "language_info": {
   "codemirror_mode": {
    "name": "ipython",
    "version": 3
   },
   "file_extension": ".py",
   "mimetype": "text/x-python",
   "name": "python",
   "nbconvert_exporter": "python",
   "pygments_lexer": "ipython3",
   "version": "3.6.0"
  }
 },
 "nbformat": 4,
 "nbformat_minor": 2
}
